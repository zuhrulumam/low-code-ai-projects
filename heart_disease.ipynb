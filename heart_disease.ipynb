{
  "nbformat": 4,
  "nbformat_minor": 0,
  "metadata": {
    "colab": {
      "provenance": [],
      "authorship_tag": "ABX9TyMdA4E6yRGLHmw4SQp4VaVs",
      "include_colab_link": true
    },
    "kernelspec": {
      "name": "python3",
      "display_name": "Python 3"
    },
    "language_info": {
      "name": "python"
    }
  },
  "cells": [
    {
      "cell_type": "markdown",
      "metadata": {
        "id": "view-in-github",
        "colab_type": "text"
      },
      "source": [
        "<a href=\"https://colab.research.google.com/github/zuhrulumam/low-code-ai-projects/blob/main/heart_disease.ipynb\" target=\"_parent\"><img src=\"https://colab.research.google.com/assets/colab-badge.svg\" alt=\"Open In Colab\"/></a>"
      ]
    },
    {
      "cell_type": "code",
      "execution_count": 2,
      "metadata": {
        "id": "hTho31YiC5O-"
      },
      "outputs": [],
      "source": [
        "import pandas as pd"
      ]
    },
    {
      "cell_type": "code",
      "source": [
        "url = \"/content/heart.csv\"\n",
        "heart_df = pd.read_csv(url, index_col=0)\n",
        "heart_df.info()"
      ],
      "metadata": {
        "colab": {
          "base_uri": "https://localhost:8080/"
        },
        "id": "8iomj3eQFdS_",
        "outputId": "35c4af30-cacd-44a3-cb0a-f6009734bc2f"
      },
      "execution_count": 3,
      "outputs": [
        {
          "output_type": "stream",
          "name": "stdout",
          "text": [
            "<class 'pandas.core.frame.DataFrame'>\n",
            "Index: 29093 entries, 2019 to 2019\n",
            "Data columns (total 19 columns):\n",
            " #   Column                      Non-Null Count  Dtype  \n",
            "---  ------                      --------------  -----  \n",
            " 0   LocationAbbr                29093 non-null  object \n",
            " 1   LocationDesc                29093 non-null  object \n",
            " 2   GeographicLevel             29093 non-null  object \n",
            " 3   DataSource                  29093 non-null  object \n",
            " 4   Class                       29093 non-null  object \n",
            " 5   Topic                       29093 non-null  object \n",
            " 6   Data_Value                  16243 non-null  float64\n",
            " 7   Data_Value_Unit             29092 non-null  object \n",
            " 8   Data_Value_Type             29092 non-null  object \n",
            " 9   Data_Value_Footnote_Symbol  12849 non-null  object \n",
            " 10  Data_Value_Footnote         12849 non-null  object \n",
            " 11  StratificationCategory1     29092 non-null  object \n",
            " 12  Stratification1             29092 non-null  object \n",
            " 13  StratificationCategory2     29092 non-null  object \n",
            " 14  Stratification2             29092 non-null  object \n",
            " 15  TopicID                     29092 non-null  object \n",
            " 16  LocationID                  29092 non-null  float64\n",
            " 17  Y_lat                       29092 non-null  float64\n",
            " 18  X_lon                       29092 non-null  float64\n",
            "dtypes: float64(4), object(15)\n",
            "memory usage: 4.4+ MB\n"
          ]
        }
      ]
    },
    {
      "cell_type": "code",
      "source": [
        "heart_df.isnull().sum()"
      ],
      "metadata": {
        "colab": {
          "base_uri": "https://localhost:8080/",
          "height": 680
        },
        "id": "32flWdPqxV0E",
        "outputId": "04528ea5-9313-457f-d8e5-632400929d44"
      },
      "execution_count": 4,
      "outputs": [
        {
          "output_type": "execute_result",
          "data": {
            "text/plain": [
              "LocationAbbr                      0\n",
              "LocationDesc                      0\n",
              "GeographicLevel                   0\n",
              "DataSource                        0\n",
              "Class                             0\n",
              "Topic                             0\n",
              "Data_Value                    12850\n",
              "Data_Value_Unit                   1\n",
              "Data_Value_Type                   1\n",
              "Data_Value_Footnote_Symbol    16244\n",
              "Data_Value_Footnote           16244\n",
              "StratificationCategory1           1\n",
              "Stratification1                   1\n",
              "StratificationCategory2           1\n",
              "Stratification2                   1\n",
              "TopicID                           1\n",
              "LocationID                        1\n",
              "Y_lat                             1\n",
              "X_lon                             1\n",
              "dtype: int64"
            ],
            "text/html": [
              "<div>\n",
              "<style scoped>\n",
              "    .dataframe tbody tr th:only-of-type {\n",
              "        vertical-align: middle;\n",
              "    }\n",
              "\n",
              "    .dataframe tbody tr th {\n",
              "        vertical-align: top;\n",
              "    }\n",
              "\n",
              "    .dataframe thead th {\n",
              "        text-align: right;\n",
              "    }\n",
              "</style>\n",
              "<table border=\"1\" class=\"dataframe\">\n",
              "  <thead>\n",
              "    <tr style=\"text-align: right;\">\n",
              "      <th></th>\n",
              "      <th>0</th>\n",
              "    </tr>\n",
              "  </thead>\n",
              "  <tbody>\n",
              "    <tr>\n",
              "      <th>LocationAbbr</th>\n",
              "      <td>0</td>\n",
              "    </tr>\n",
              "    <tr>\n",
              "      <th>LocationDesc</th>\n",
              "      <td>0</td>\n",
              "    </tr>\n",
              "    <tr>\n",
              "      <th>GeographicLevel</th>\n",
              "      <td>0</td>\n",
              "    </tr>\n",
              "    <tr>\n",
              "      <th>DataSource</th>\n",
              "      <td>0</td>\n",
              "    </tr>\n",
              "    <tr>\n",
              "      <th>Class</th>\n",
              "      <td>0</td>\n",
              "    </tr>\n",
              "    <tr>\n",
              "      <th>Topic</th>\n",
              "      <td>0</td>\n",
              "    </tr>\n",
              "    <tr>\n",
              "      <th>Data_Value</th>\n",
              "      <td>12850</td>\n",
              "    </tr>\n",
              "    <tr>\n",
              "      <th>Data_Value_Unit</th>\n",
              "      <td>1</td>\n",
              "    </tr>\n",
              "    <tr>\n",
              "      <th>Data_Value_Type</th>\n",
              "      <td>1</td>\n",
              "    </tr>\n",
              "    <tr>\n",
              "      <th>Data_Value_Footnote_Symbol</th>\n",
              "      <td>16244</td>\n",
              "    </tr>\n",
              "    <tr>\n",
              "      <th>Data_Value_Footnote</th>\n",
              "      <td>16244</td>\n",
              "    </tr>\n",
              "    <tr>\n",
              "      <th>StratificationCategory1</th>\n",
              "      <td>1</td>\n",
              "    </tr>\n",
              "    <tr>\n",
              "      <th>Stratification1</th>\n",
              "      <td>1</td>\n",
              "    </tr>\n",
              "    <tr>\n",
              "      <th>StratificationCategory2</th>\n",
              "      <td>1</td>\n",
              "    </tr>\n",
              "    <tr>\n",
              "      <th>Stratification2</th>\n",
              "      <td>1</td>\n",
              "    </tr>\n",
              "    <tr>\n",
              "      <th>TopicID</th>\n",
              "      <td>1</td>\n",
              "    </tr>\n",
              "    <tr>\n",
              "      <th>LocationID</th>\n",
              "      <td>1</td>\n",
              "    </tr>\n",
              "    <tr>\n",
              "      <th>Y_lat</th>\n",
              "      <td>1</td>\n",
              "    </tr>\n",
              "    <tr>\n",
              "      <th>X_lon</th>\n",
              "      <td>1</td>\n",
              "    </tr>\n",
              "  </tbody>\n",
              "</table>\n",
              "</div><br><label><b>dtype:</b> int64</label>"
            ]
          },
          "metadata": {},
          "execution_count": 4
        }
      ]
    },
    {
      "cell_type": "code",
      "source": [
        "heart_df.Stratification2.unique()"
      ],
      "metadata": {
        "colab": {
          "base_uri": "https://localhost:8080/"
        },
        "id": "raFyb2EryW7K",
        "outputId": "46d0c45f-7e6b-4cfc-f503-49101b84d715"
      },
      "execution_count": 5,
      "outputs": [
        {
          "output_type": "execute_result",
          "data": {
            "text/plain": [
              "array(['Overall', 'White', 'Asian and Pacific Islander', 'Black',\n",
              "       'Hispanic', 'American Indian and Alaskan Native', nan],\n",
              "      dtype=object)"
            ]
          },
          "metadata": {},
          "execution_count": 5
        }
      ]
    },
    {
      "cell_type": "code",
      "source": [
        "import seaborn as sns\n",
        "# sns.violinplot(x=\"Data_Value\", y=\"Stratification2\",data=heart_df)\n",
        "sns.displot(heart_df[\"Data_Value\"])"
      ],
      "metadata": {
        "colab": {
          "base_uri": "https://localhost:8080/",
          "height": 524
        },
        "id": "Uxrzr3uuy_os",
        "outputId": "b55d2141-b124-4d9d-9410-4f130e4a454a"
      },
      "execution_count": 10,
      "outputs": [
        {
          "output_type": "execute_result",
          "data": {
            "text/plain": [
              "<seaborn.axisgrid.FacetGrid at 0x7a853fb1e650>"
            ]
          },
          "metadata": {},
          "execution_count": 10
        },
        {
          "output_type": "display_data",
          "data": {
            "text/plain": [
              "<Figure size 500x500 with 1 Axes>"
            ],
            "image/png": "[encoded data removed]"
          },
          "metadata": {}
        }
      ]
    }
  ]
}